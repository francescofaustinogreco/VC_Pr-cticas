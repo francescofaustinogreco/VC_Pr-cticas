{
 "cells": [
  {
   "cell_type": "markdown",
   "metadata": {},
   "source": [
    "Paquetes necesarios"
   ]
  },
  {
   "cell_type": "code",
   "execution_count": 1,
   "metadata": {},
   "outputs": [],
   "source": [
    "import cv2  \n",
    "import numpy as np\n",
    "import matplotlib.pyplot as plt"
   ]
  },
  {
   "cell_type": "markdown",
   "metadata": {},
   "source": [
    "TAREA: Crea una imagen, p.e. de 800x800 píxeles, con la textura del tablero de ajedrez"
   ]
  },
  {
   "cell_type": "code",
   "execution_count": 2,
   "metadata": {},
   "outputs": [
    {
     "data": {
      "text/plain": [
       "<matplotlib.image.AxesImage at 0x144276d10>"
      ]
     },
     "execution_count": 2,
     "metadata": {},
     "output_type": "execute_result"
    },
    {
     "data": {
      "image/png": "[encoded data removed]",
      "text/plain": [
       "<Figure size 640x480 with 1 Axes>"
      ]
     },
     "metadata": {},
     "output_type": "display_data"
    }
   ],
   "source": [
    "ancho = 800\n",
    "alto = 800\n",
    "\n",
    "# Create a grayscale image (single channel) initialized to black\n",
    "chess_img = np.zeros((alto, ancho, 1), dtype = np.uint8)\n",
    "\n",
    "# First row of blocks\n",
    "chess_img[0:100, 0:100, 0] = 255      # Top-left corner block\n",
    "chess_img[0:100, 200:300, 0] = 255    # Top row, second block (skip 100 pixels)\n",
    "chess_img[0:100, 400:500, 0] = 255    # Top row, third block\n",
    "chess_img[0:100, 600:700, 0] = 255    # Top row, fourth block\n",
    "\n",
    "# Second row of blocks\n",
    "chess_img[100:200, 100:200, 0] = 255  # Start from x=100 to alternate pattern\n",
    "chess_img[100:200, 300:400, 0] = 255\n",
    "chess_img[100:200, 500:600, 0] = 255\n",
    "chess_img[100:200, 700:800, 0] = 255\n",
    "\n",
    "# Third row\n",
    "chess_img[200:300, 0:100, 0] = 255\n",
    "chess_img[200:300, 200:300, 0] = 255\n",
    "chess_img[200:300, 400:500, 0] = 255\n",
    "chess_img[200:300, 600:700, 0] = 255\n",
    "\n",
    "# Fourth row\n",
    "chess_img[300:400, 100:200, 0] = 255\n",
    "chess_img[300:400, 300:400, 0] = 255\n",
    "chess_img[300:400, 500:600, 0] = 255\n",
    "chess_img[300:400, 700:800, 0] = 255\n",
    "\n",
    "# Fifth row\n",
    "chess_img[400:500, 0:100, 0] = 255\n",
    "chess_img[400:500, 200:300, 0] = 255\n",
    "chess_img[400:500, 400:500, 0] = 255\n",
    "chess_img[400:500, 600:700, 0] = 255 \n",
    "\n",
    "# Sixth row\n",
    "chess_img[500:600, 100:200, 0] = 255\n",
    "chess_img[500:600, 300:400, 0] = 255\n",
    "chess_img[500:600, 500:600, 0] = 255\n",
    "chess_img[500:600, 700:800, 0] = 255\n",
    "\n",
    "# Seventh row\n",
    "chess_img[600:700, 0:100, 0] = 255\n",
    "chess_img[600:700, 200:300, 0] = 255\n",
    "chess_img[600:700, 400:500, 0] = 255\n",
    "chess_img[600:700, 600:700, 0] = 255 \n",
    "\n",
    "# Eighth row\n",
    "chess_img[700:800, 100:200, 0] = 255\n",
    "chess_img[700:800, 300:400, 0] = 255\n",
    "chess_img[700:800, 500:600, 0] = 255\n",
    "chess_img[700:800, 700:800, 0] = 255\n",
    "\n",
    "# Display the grayscale checkerboard image\n",
    "plt.imshow(chess_img, cmap='gray')"
   ]
  },
  {
   "cell_type": "markdown",
   "metadata": {},
   "source": [
    "TAREA: Crear una imagen estilo Mondrian (un ejemplo https://www3.gobiernodecanarias.org/medusa/ecoescuela/sa/2017/04/17/descubriendo-a-mondrian/ ) con las funciones de dibujo de OpenCV"
   ]
  },
  {
   "cell_type": "code",
   "execution_count": null,
   "metadata": {},
   "outputs": [],
   "source": [
    "alto = 600\n",
    "ancho = 600\n",
    "\n",
    "# Create a white RGB image\n",
    "mondrian_img = np.zeros((alto, ancho, 3), dtype=np.uint8) \n",
    "mondrian_img[:,:,:] = 255\n",
    "\n",
    "# Vertical lines\n",
    "cv2.line(mondrian_img, (200, 0), (200, alto), (0,0,0), 8)      # Black vertical line at x=200\n",
    "cv2.line(mondrian_img, (520, 600), (520, 400), (0,0,0), 10)   # Black vertical line from bottom to y=400\n",
    "\n",
    "# Horizontal lines\n",
    "cv2.line(mondrian_img, (0, 400), (ancho, 400), (0,0,0), 15)  # Black horizontal line at y=400\n",
    "cv2.line(mondrian_img, (0, 200), (200, 200), (0,0,0), 12)    # Black horizontal line from x=0 to x=200 at y=200\n",
    "\n",
    "# Colored rectangles (filled)\n",
    "cv2.rectangle(mondrian_img,(205, 0),(ancho,395),(255,0,0),-1)    # Red rectangle\n",
    "cv2.rectangle(mondrian_img,(0,407),(195,600),(0,0,255),-1)       # Blue rectangle\n",
    "cv2.rectangle(mondrian_img,(520,400),(600,500),(0,0,0),-1)       # Black rectangle\n",
    "cv2.rectangle(mondrian_img,(525,500),(600,600),(255,255,0),-1)   # Yellow rectangle\n",
    "\n",
    "# Display the image\n",
    "plt.imshow(mondrian_img)"
   ]
  },
  {
   "cell_type": "markdown",
   "metadata": {},
   "source": [
    "TAREA: Modifica de forma libre los valores de un plano de la imagen"
   ]
  },
  {
   "cell_type": "code",
   "execution_count": null,
   "metadata": {},
   "outputs": [
    {
     "name": "stderr",
     "output_type": "stream",
     "text": [
      "2025-09-24 15:03:21.272 python[5438:577823] WARNING: AVCaptureDeviceTypeExternal is deprecated for Continuity Cameras. Please use AVCaptureDeviceTypeContinuityCamera and add NSCameraUseContinuityCameraDeviceType to your Info.plist.\n"
     ]
    },
    {
     "ename": "KeyboardInterrupt",
     "evalue": "",
     "output_type": "error",
     "traceback": [
      "\u001b[31m---------------------------------------------------------------------------\u001b[39m",
      "\u001b[31mKeyboardInterrupt\u001b[39m                         Traceback (most recent call last)",
      "\u001b[36mCell\u001b[39m\u001b[36m \u001b[39m\u001b[32mIn[3]\u001b[39m\u001b[32m, line 4\u001b[39m\n\u001b[32m      1\u001b[39m vid = cv2.VideoCapture(\u001b[32m0\u001b[39m)\n\u001b[32m      3\u001b[39m \u001b[38;5;28;01mwhile\u001b[39;00m \u001b[38;5;28;01mTrue\u001b[39;00m:      \n\u001b[32m----> \u001b[39m\u001b[32m4\u001b[39m     ret, frame = \u001b[43mvid\u001b[49m\u001b[43m.\u001b[49m\u001b[43mread\u001b[49m\u001b[43m(\u001b[49m\u001b[43m)\u001b[49m\n\u001b[32m      5\u001b[39m     \u001b[38;5;28;01mif\u001b[39;00m \u001b[38;5;129;01mnot\u001b[39;00m ret:\n\u001b[32m      6\u001b[39m         \u001b[38;5;28;01mbreak\u001b[39;00m\n",
      "\u001b[31mKeyboardInterrupt\u001b[39m: "
     ]
    }
   ],
   "source": [
    "vid = cv2.VideoCapture(0)\n",
    "\n",
    "while True:      \n",
    "    ret, frame = vid.read()\n",
    "    if not ret:\n",
    "        break\n",
    "\n",
    "    #Modify channels\n",
    "    frame_mod = frame.copy()\n",
    "    frame_mod[:,:,2] = 255                   \n",
    "    frame_mod[:,:,1] = frame_mod[:,:,1] // 2 \n",
    "    frame_mod[:,:,0] = frame_mod[:,:,0] // 2\n",
    "\n",
    "    # Split channels to show in collage\n",
    "    r = frame_mod[:,:,2]\n",
    "    g = frame_mod[:,:,1]\n",
    "    b = frame_mod[:,:,0]\n",
    "\n",
    "    # Put images side by side\n",
    "    collage = np.hstack((r, g, b))\n",
    "\n",
    "    # Show resized image\n",
    "    h, w, c = frame.shape\n",
    "    cv2.imshow('RGB', cv2.resize(collage, (int(w*1.5), int(h/2)), cv2.INTER_NEAREST))\n",
    "\n",
    "    # Exit with ESC\n",
    "    if cv2.waitKey(20) == 27:\n",
    "        break\n",
    "\n",
    "vid.release()\n",
    "cv2.destroyAllWindows()\n"
   ]
  },
  {
   "cell_type": "markdown",
   "metadata": {},
   "source": [
    "TAREA: Pintar círculos en las posiciones del píxel más claro y oscuro de la imagen \n",
    "¿Si quisieras hacerlo sobre la zona 8x8 más clara/oscura?"
   ]
  },
  {
   "cell_type": "code",
   "execution_count": null,
   "metadata": {},
   "outputs": [],
   "source": [
    "# Global variables for mouse position and RGB values\n",
    "px, py = -1, -1\n",
    "R, G, B = 0, 0, 0\n",
    "\n",
    "# Mouse callback function\n",
    "def mouse_events(event, x, y, flags, param):\n",
    "    global px, py, R, G, B\n",
    "    if event == cv2.EVENT_MOUSEMOVE:\n",
    "        px, py = x, y\n",
    "        # Read the BGR values of the pixel under the cursor\n",
    "        B = frame[y, x, 0]\n",
    "        G = frame[y, x, 1]\n",
    "        R = frame[y, x, 2]\n",
    "\n",
    "# Load the image\n",
    "filename = 'pop-art.jpg'  # Replace with your file name\n",
    "frame = cv2.imread(filename)\n",
    "if frame is None:\n",
    "    print(\"Image not found!\")\n",
    "    exit()\n",
    "\n",
    "# Find the brightest and darkest pixels using grayscale conversion\n",
    "gray = cv2.cvtColor(frame, cv2.COLOR_BGR2GRAY)\n",
    "min_val, max_val, min_loc, max_loc = cv2.minMaxLoc(gray)\n",
    "\n",
    "# Find brightest and darkest 8x8 areas\n",
    "h, w = gray.shape\n",
    "max_avg = -1\n",
    "min_avg = 256\n",
    "max_area_loc = (0, 0)\n",
    "min_area_loc = (0, 0)\n",
    "\n",
    "for y in range(h - 7):\n",
    "    for x in range(w - 7):\n",
    "        # Calculate average brightness of 8x8 area\n",
    "        area_avg = np.mean(gray[y:y+8, x:x+8])\n",
    "        if area_avg > max_avg:\n",
    "            max_avg = area_avg\n",
    "            max_area_loc = (x + 4, y + 4)  # Center of the area\n",
    "        if area_avg < min_avg:\n",
    "            min_avg = area_avg\n",
    "            min_area_loc = (x + 4, y + 4)  # Center of the area\n",
    "\n",
    "# Create a window and set the mouse callback\n",
    "cv2.namedWindow('Image')\n",
    "cv2.setMouseCallback('Image', mouse_events)\n",
    "font = cv2.FONT_HERSHEY_SIMPLEX\n",
    "\n",
    "while True:\n",
    "    # Create a copy of the original frame to draw circles and text without altering the original\n",
    "    temp_frame = frame.copy()\n",
    "\n",
    "    # Draw circles on the brightest (red) and darkest (blue) pixels\n",
    "    cv2.circle(temp_frame, max_loc, 5, (0,0,255), 2)  # Red = brightest pixel\n",
    "    cv2.circle(temp_frame, min_loc, 5, (255,0,0), 2)  # Blue = darkest pixel\n",
    "    \n",
    "    # Draw circles on the brightest (green) and darkest (yellow) 8x8 areas\n",
    "    cv2.circle(temp_frame, max_area_loc, 5, (0,255,0), 2)  # Green = brightest area\n",
    "    cv2.circle(temp_frame, min_area_loc, 5, (0,255,255), 2)  # Yellow = darkest area\n",
    "\n",
    "    # Display RGB values next to the cursor\n",
    "    if px != -1:\n",
    "        cv2.putText(temp_frame, f'R:{R}', (px+10, py-10), font, 0.5, (0,0,255), 1)\n",
    "        cv2.putText(temp_frame, f'G:{G}', (px+10, py+5), font, 0.5, (0,255,0), 1)\n",
    "        cv2.putText(temp_frame, f'B:{B}', (px+10, py+20), font, 0.5, (255,0,0), 1)\n",
    "\n",
    "    # Show the updated image with circles and RGB values\n",
    "    cv2.imshow('Image', temp_frame)\n",
    "\n",
    "   # Exit the loop when ESC is pressed\n",
    "    if cv2.waitKey(20) == 27:\n",
    "        break\n",
    "\n",
    "# Close all OpenCV windows\n",
    "cv2.destroyAllWindows()"
   ]
  },
  {
   "cell_type": "markdown",
   "metadata": {},
   "source": [
    "TAREA: Llevar a cabo una propuesta propia de pop art"
   ]
  },
  {
   "cell_type": "code",
   "execution_count": null,
   "metadata": {},
   "outputs": [],
   "source": [
    "vid = cv2.VideoCapture(0)\n",
    "\n",
    "# Camera dimensions\n",
    "w = int(vid.get(cv2.CAP_PROP_FRAME_WIDTH))\n",
    "h = int(vid.get(cv2.CAP_PROP_FRAME_HEIGHT))\n",
    "\n",
    "# Force half resolution to use less screen space\n",
    "w = int(w/2)\n",
    "h = int(h/2)\n",
    "vid.set(cv2.CAP_PROP_FRAME_WIDTH, w)  # On Mac these commands don't work\n",
    "vid.set(cv2.CAP_PROP_FRAME_HEIGHT, h)\n",
    "\n",
    "# Final image 2x original (collage)\n",
    "collage = np.zeros((h*2, w*2, 3), dtype=np.uint8)\n",
    "tl = collage[0:h, 0:w]\n",
    "tr = collage[0:h, w:w+w]\n",
    "bl = collage[h:h+h, 0:w]\n",
    "br = collage[h:h+h, w:w+w]\n",
    "\n",
    "while True:      \n",
    "    # Frame by frame\n",
    "    ret, frameIN = vid.read()\n",
    "\n",
    "    # Resize to smaller size\n",
    "    frame = cv2.resize(frameIN, (int(w), int(h)), cv2.INTER_NEAREST)\n",
    "\n",
    "    if ret:\n",
    "        # Separate color channels\n",
    "        r = frame[:,:,2]\n",
    "        g = frame[:,:,1]\n",
    "        b = frame[:,:,0]\n",
    "\n",
    "        # Play with color planes\n",
    "        tl[:,:,0] = 210 - b\n",
    "        tl[:,:,1] = g + 90\n",
    "        tl[:,:,2] = b\n",
    "\n",
    "        tr[:,:,0] = 90 - r*4 \n",
    "        tr[:,:,1] = r\n",
    "        tr[:,:,2] = r\n",
    "        \n",
    "        bl[:,:,0] = r\n",
    "        bl[:,:,1] = b\n",
    "        bl[:,:,2] = 180 - g*2\n",
    "\n",
    "        br[:,:,0] = b\n",
    "        br[:,:,1] = 100 - g\n",
    "        br[:,:,2] = g\n",
    "    \n",
    "        # Show composition\n",
    "        cv2.imshow('Cam', collage)\n",
    "    \n",
    "    # Stop when ESC is pressed\n",
    "    if cv2.waitKey(20) == 27:\n",
    "        break\n",
    "  \n",
    "# Release capture object\n",
    "vid.release()\n",
    "# Destroy all windows\n",
    "cv2.destroyAllWindows()"
   ]
  }
 ],
 "metadata": {
  "kernelspec": {
   "display_name": "VC_P1",
   "language": "python",
   "name": "python3"
  },
  "language_info": {
   "codemirror_mode": {
    "name": "ipython",
    "version": 3
   },
   "file_extension": ".py",
   "mimetype": "text/x-python",
   "name": "python",
   "nbconvert_exporter": "python",
   "pygments_lexer": "ipython3",
   "version": "3.11.5"
  },
  "orig_nbformat": 4
 },
 "nbformat": 4,
 "nbformat_minor": 2
}
